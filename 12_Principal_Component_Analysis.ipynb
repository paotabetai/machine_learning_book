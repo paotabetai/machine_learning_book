{
  "nbformat": 4,
  "nbformat_minor": 0,
  "metadata": {
    "colab": {
      "provenance": [],
      "authorship_tag": "ABX9TyPc339y9p6eROlM+PMs1PvQ"
    },
    "kernelspec": {
      "name": "python3",
      "display_name": "Python 3"
    },
    "language_info": {
      "name": "python"
    }
  },
  "cells": [
    {
      "cell_type": "code",
      "execution_count": 3,
      "metadata": {
        "colab": {
          "base_uri": "https://localhost:8080/"
        },
        "id": "FzXw26wUJj54",
        "outputId": "3f4941d1-5f55-4a80-8359-0c6c1d279bde"
      },
      "outputs": [
        {
          "output_type": "stream",
          "name": "stdout",
          "text": [
            "[[110  51]\n",
            " [ 51  30]]\n"
          ]
        }
      ],
      "source": [
        "# Q1\n",
        "import numpy as np\n",
        "\n",
        "\n",
        "X = np.array([\n",
        "    [-7, -2],\n",
        "    [-3, -3],\n",
        "    [4, 1],\n",
        "    [6, 4]\n",
        "])\n",
        "\n",
        "X_T = X.T\n",
        "\n",
        "S = np.dot(X.T, X)\n",
        "print(S)"
      ]
    },
    {
      "cell_type": "code",
      "source": [
        "# Q2\n",
        "\n",
        "eig, eig_v = np.linalg.eig(S)\n",
        "print('Eigenvalue:{}'.format(eig))\n",
        "print('Eigenvalue Vector:{}'.format(eig_v))"
      ],
      "metadata": {
        "colab": {
          "base_uri": "https://localhost:8080/"
        },
        "id": "qjjcmmP3Kj2I",
        "outputId": "82eca757-1e54-41ed-e338-9a96e7d33ee5"
      },
      "execution_count": 7,
      "outputs": [
        {
          "output_type": "stream",
          "name": "stdout",
          "text": [
            "Eigenvalue:[134.81512169   5.18487831]\n",
            "Eigenvalue Vector:[[ 0.89920519 -0.43752718]\n",
            " [ 0.43752718  0.89920519]]\n"
          ]
        }
      ]
    },
    {
      "cell_type": "code",
      "source": [
        "# Q3\n",
        "\n",
        "f_pcs, s_pcs = eig_v\n",
        "\n",
        "def calculate_var(u, X):\n",
        "  a = np.dot(X, u)\n",
        "  var = sum([a_i ** 2 for a_i in a]) / len(X)\n",
        "  return var\n",
        "\n",
        "f_var = calculate_var(f_pcs, X)\n",
        "s_var = calculate_var(s_pcs, X)\n",
        "print(f'The First Principal Component: {f_pcs}')\n",
        "print(f'Variance: {f_var}')\n",
        "print(f'The Second Principal Component: {s_pcs}')\n",
        "print(f'Variance: {s_var}')"
      ],
      "metadata": {
        "colab": {
          "base_uri": "https://localhost:8080/"
        },
        "id": "XIamb1uJLEX_",
        "outputId": "eb7722c5-2f80-47c9-9c23-495de43a987b"
      },
      "execution_count": 12,
      "outputs": [
        {
          "output_type": "stream",
          "name": "stdout",
          "text": [
            "The First Principal Component: [ 0.89920519 -0.43752718]\n",
            "Variance: 13.639018280523235\n",
            "The Second Principal Component: [0.43752718 0.89920519]\n",
            "Variance: 21.360981719476765\n"
          ]
        }
      ]
    },
    {
      "cell_type": "code",
      "source": [
        "print(f'The First Principal Component Score: {np.dot(X, f_pcs)}')\n",
        "print(f'The Second Principal Component Score: {np.dot(X, s_pcs)}')"
      ],
      "metadata": {
        "colab": {
          "base_uri": "https://localhost:8080/"
        },
        "id": "TUM58KCOMydg",
        "outputId": "4e0e5a2c-d2df-4607-fec5-3860674da404"
      },
      "execution_count": 13,
      "outputs": [
        {
          "output_type": "stream",
          "name": "stdout",
          "text": [
            "The First Principal Component Score: [-5.41938195 -1.38503402  3.15929357  3.6451224 ]\n",
            "The Second Principal Component Score: [-4.86110063 -4.0101971   2.6493139   6.22198382]\n"
          ]
        }
      ]
    }
  ]
}